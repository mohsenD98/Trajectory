{
 "cells": [
  {
   "cell_type": "markdown",
   "id": "47caf065",
   "metadata": {
    "direction": "rtl"
   },
   "source": [
    "# کارکردن با داده های خط سیر در پایتون \n",
    "\n",
    "**نویسنده: محسن دهقان زاده** \n",
    "\n",
    "\n",
    "- هدف کلی کار کردن با داده های جغرافیایی و آشنایی با اکوسیستم موجود در پایتون   \n",
    "    - [x] pandas / geopandas\n",
    "    - [x] shapely\n",
    "    - [x] pysal\n",
    "    - [x] pyproj\n",
    "    - [x] osmnx / pyrosm\n",
    "    - [x] matplotlib (visualization)\n",
    "        \n",
    "  \n",
    "\n",
    "\n",
    "# فهرست مطالب\n",
    "- [بخش 1](#بخش-1) : کتابخانه ها ی ضروری\n",
    "- [بخش 2](#بخش-2)\n",
    "- [بخش 3](#بخش-3)\n",
    "- [بخش 4](#بخش-4)\n",
    "- [بخش 5](#بخش-5)\n",
    "- [بخش 6](#بخش-6)\n",
    "- [بخش 7](#بخش-7)\n",
    "- [بخش 8](#بخش-8) : نکات مهم\n",
    "- [بخش 9](#بخش-9) : منابع\n",
    "- [بخش 10](#بخش-10) : لینک های مفید \n",
    "\n",
    "\n",
    "\n",
    "---\n"
   ]
  },
  {
   "cell_type": "markdown",
   "id": "ed4b9d16",
   "metadata": {
    "direction": "rtl"
   },
   "source": [
    "# بخش 1"
   ]
  },
  {
   "cell_type": "markdown",
   "id": "1e7dc96e",
   "metadata": {
    "direction": "rtl"
   },
   "source": [
    "### حذف کردن warning های غیر ضروری:"
   ]
  },
  {
   "cell_type": "code",
   "execution_count": 2,
   "id": "5bdb3778",
   "metadata": {
    "direction": "rtl"
   },
   "outputs": [],
   "source": [
    "import warnings\n",
    "warnings.simplefilter(action='ignore', category=FutureWarning)"
   ]
  },
  {
   "cell_type": "markdown",
   "id": "248d9618",
   "metadata": {
    "direction": "rtl"
   },
   "source": []
  },
  {
   "cell_type": "markdown",
   "id": "e32a0e3e",
   "metadata": {
    "direction": "rtl"
   },
   "source": []
  },
  {
   "cell_type": "markdown",
   "id": "858147ca",
   "metadata": {
    "direction": "rtl"
   },
   "source": []
  },
  {
   "cell_type": "markdown",
   "id": "96e3c983",
   "metadata": {
    "direction": "rtl"
   },
   "source": []
  },
  {
   "cell_type": "markdown",
   "id": "2ceb0a62",
   "metadata": {
    "direction": "rtl"
   },
   "source": []
  },
  {
   "cell_type": "markdown",
   "id": "11ce2c0f",
   "metadata": {
    "direction": "rtl"
   },
   "source": []
  },
  {
   "cell_type": "markdown",
   "id": "b2f08b35",
   "metadata": {
    "direction": "rtl"
   },
   "source": []
  },
  {
   "cell_type": "markdown",
   "id": "bde6ece9",
   "metadata": {
    "direction": "rtl"
   },
   "source": []
  },
  {
   "cell_type": "markdown",
   "id": "c0ac1070",
   "metadata": {
    "direction": "rtl"
   },
   "source": []
  },
  {
   "cell_type": "markdown",
   "id": "a14abe76",
   "metadata": {
    "direction": "rtl"
   },
   "source": []
  },
  {
   "cell_type": "markdown",
   "id": "2fc2ab7e",
   "metadata": {
    "direction": "rtl"
   },
   "source": []
  },
  {
   "cell_type": "markdown",
   "id": "f49eaf0f",
   "metadata": {
    "direction": "rtl"
   },
   "source": []
  },
  {
   "cell_type": "markdown",
   "id": "7601aa92",
   "metadata": {
    "direction": "rtl"
   },
   "source": []
  },
  {
   "cell_type": "markdown",
   "id": "076a054d",
   "metadata": {
    "direction": "rtl"
   },
   "source": []
  },
  {
   "cell_type": "markdown",
   "id": "f7a30d9e",
   "metadata": {
    "direction": "rtl"
   },
   "source": []
  },
  {
   "cell_type": "markdown",
   "id": "26a01f4f",
   "metadata": {
    "direction": "rtl"
   },
   "source": []
  },
  {
   "cell_type": "markdown",
   "id": "8ea036dd",
   "metadata": {
    "direction": "rtl"
   },
   "source": []
  },
  {
   "cell_type": "markdown",
   "id": "e48384e2",
   "metadata": {
    "direction": "rtl"
   },
   "source": [
    "# بخش 2  "
   ]
  },
  {
   "cell_type": "markdown",
   "id": "171aa6bd",
   "metadata": {
    "direction": "rtl"
   },
   "source": []
  },
  {
   "cell_type": "markdown",
   "id": "f095e635",
   "metadata": {
    "direction": "rtl"
   },
   "source": []
  },
  {
   "cell_type": "markdown",
   "id": "85f81e16",
   "metadata": {
    "direction": "rtl"
   },
   "source": []
  },
  {
   "cell_type": "markdown",
   "id": "699a35ce",
   "metadata": {
    "direction": "rtl"
   },
   "source": []
  },
  {
   "cell_type": "markdown",
   "id": "ec93c215",
   "metadata": {
    "direction": "rtl"
   },
   "source": []
  },
  {
   "cell_type": "markdown",
   "id": "da484b66",
   "metadata": {
    "direction": "rtl"
   },
   "source": []
  },
  {
   "cell_type": "markdown",
   "id": "af754430",
   "metadata": {
    "direction": "rtl"
   },
   "source": []
  },
  {
   "cell_type": "markdown",
   "id": "e681a833",
   "metadata": {
    "direction": "rtl"
   },
   "source": []
  },
  {
   "cell_type": "markdown",
   "id": "69b4f254",
   "metadata": {
    "direction": "rtl"
   },
   "source": []
  },
  {
   "cell_type": "markdown",
   "id": "9c705f79",
   "metadata": {
    "direction": "rtl"
   },
   "source": []
  },
  {
   "cell_type": "markdown",
   "id": "c82612fb",
   "metadata": {
    "direction": "rtl"
   },
   "source": []
  },
  {
   "cell_type": "markdown",
   "id": "d04c92d1",
   "metadata": {
    "direction": "rtl"
   },
   "source": []
  },
  {
   "cell_type": "markdown",
   "id": "21e8c492",
   "metadata": {
    "direction": "rtl"
   },
   "source": []
  },
  {
   "cell_type": "markdown",
   "id": "93849900",
   "metadata": {
    "direction": "rtl"
   },
   "source": []
  },
  {
   "cell_type": "markdown",
   "id": "69fe00a8",
   "metadata": {
    "direction": "rtl"
   },
   "source": []
  },
  {
   "cell_type": "markdown",
   "id": "6f77846c",
   "metadata": {
    "direction": "rtl"
   },
   "source": []
  },
  {
   "cell_type": "markdown",
   "id": "eb3e57a7",
   "metadata": {
    "direction": "rtl"
   },
   "source": [
    "# بخش 3 \n"
   ]
  },
  {
   "cell_type": "markdown",
   "id": "db617be7",
   "metadata": {
    "direction": "rtl"
   },
   "source": []
  },
  {
   "cell_type": "markdown",
   "id": "ab4674e0",
   "metadata": {
    "direction": "rtl"
   },
   "source": []
  },
  {
   "cell_type": "markdown",
   "id": "aa973307",
   "metadata": {
    "direction": "rtl"
   },
   "source": []
  },
  {
   "cell_type": "markdown",
   "id": "3ca4a000",
   "metadata": {
    "direction": "rtl"
   },
   "source": []
  },
  {
   "cell_type": "markdown",
   "id": "a2b610ee",
   "metadata": {
    "direction": "rtl"
   },
   "source": []
  },
  {
   "cell_type": "markdown",
   "id": "f4ab674b",
   "metadata": {
    "direction": "rtl"
   },
   "source": []
  },
  {
   "cell_type": "markdown",
   "id": "7eed22d5",
   "metadata": {
    "direction": "rtl"
   },
   "source": []
  },
  {
   "cell_type": "markdown",
   "id": "c666f4aa",
   "metadata": {
    "direction": "rtl"
   },
   "source": []
  },
  {
   "cell_type": "markdown",
   "id": "6b29c6ce",
   "metadata": {
    "direction": "rtl"
   },
   "source": []
  },
  {
   "cell_type": "markdown",
   "id": "5d1c7f9c",
   "metadata": {
    "direction": "rtl"
   },
   "source": []
  },
  {
   "cell_type": "markdown",
   "id": "b098138c",
   "metadata": {
    "direction": "rtl"
   },
   "source": []
  },
  {
   "cell_type": "markdown",
   "id": "12da505e",
   "metadata": {
    "direction": "rtl"
   },
   "source": []
  },
  {
   "cell_type": "markdown",
   "id": "eb285948",
   "metadata": {
    "direction": "rtl"
   },
   "source": []
  },
  {
   "cell_type": "markdown",
   "id": "e420c9d5",
   "metadata": {
    "direction": "rtl"
   },
   "source": [
    "# بخش 4"
   ]
  },
  {
   "cell_type": "markdown",
   "id": "e5db2e02",
   "metadata": {
    "direction": "rtl"
   },
   "source": []
  },
  {
   "cell_type": "markdown",
   "id": "7ce3ae76",
   "metadata": {
    "direction": "rtl"
   },
   "source": []
  },
  {
   "cell_type": "markdown",
   "id": "f6a248d0",
   "metadata": {
    "direction": "rtl"
   },
   "source": []
  },
  {
   "cell_type": "markdown",
   "id": "88dcb9f5",
   "metadata": {
    "direction": "rtl"
   },
   "source": []
  },
  {
   "cell_type": "markdown",
   "id": "0fb9adce",
   "metadata": {
    "direction": "rtl"
   },
   "source": []
  },
  {
   "cell_type": "markdown",
   "id": "ed634796",
   "metadata": {
    "direction": "rtl"
   },
   "source": []
  },
  {
   "cell_type": "markdown",
   "id": "72fecbb3",
   "metadata": {
    "direction": "rtl"
   },
   "source": []
  },
  {
   "cell_type": "markdown",
   "id": "79092721",
   "metadata": {
    "direction": "rtl"
   },
   "source": []
  },
  {
   "cell_type": "markdown",
   "id": "56a68755",
   "metadata": {
    "direction": "rtl"
   },
   "source": []
  },
  {
   "cell_type": "markdown",
   "id": "f8091c43",
   "metadata": {
    "direction": "rtl"
   },
   "source": []
  },
  {
   "cell_type": "markdown",
   "id": "57349585",
   "metadata": {
    "direction": "rtl"
   },
   "source": []
  },
  {
   "cell_type": "markdown",
   "id": "33b32d06",
   "metadata": {
    "direction": "rtl"
   },
   "source": []
  },
  {
   "cell_type": "markdown",
   "id": "248672c4",
   "metadata": {
    "direction": "rtl"
   },
   "source": []
  },
  {
   "cell_type": "markdown",
   "id": "a3bd89bc",
   "metadata": {
    "direction": "rtl"
   },
   "source": []
  },
  {
   "cell_type": "markdown",
   "id": "5bac466f",
   "metadata": {
    "direction": "rtl"
   },
   "source": []
  },
  {
   "cell_type": "markdown",
   "id": "64bbb3fe",
   "metadata": {
    "direction": "rtl"
   },
   "source": []
  },
  {
   "cell_type": "markdown",
   "id": "71f77c94",
   "metadata": {
    "direction": "rtl"
   },
   "source": []
  },
  {
   "cell_type": "markdown",
   "id": "be7633a7",
   "metadata": {
    "direction": "rtl"
   },
   "source": []
  },
  {
   "cell_type": "markdown",
   "id": "bcd3f18b",
   "metadata": {
    "direction": "rtl"
   },
   "source": [
    "# بخش 5 \n"
   ]
  },
  {
   "cell_type": "markdown",
   "id": "05e2ac0a",
   "metadata": {
    "direction": "rtl"
   },
   "source": []
  },
  {
   "cell_type": "markdown",
   "id": "9547a243",
   "metadata": {
    "direction": "rtl"
   },
   "source": []
  },
  {
   "cell_type": "markdown",
   "id": "8891338b",
   "metadata": {
    "direction": "rtl"
   },
   "source": []
  },
  {
   "cell_type": "markdown",
   "id": "6785f665",
   "metadata": {
    "direction": "rtl"
   },
   "source": []
  },
  {
   "cell_type": "markdown",
   "id": "5b7fa9e6",
   "metadata": {
    "direction": "rtl"
   },
   "source": []
  },
  {
   "cell_type": "markdown",
   "id": "14e4256b",
   "metadata": {
    "direction": "rtl"
   },
   "source": []
  },
  {
   "cell_type": "markdown",
   "id": "48555ac5",
   "metadata": {
    "direction": "rtl"
   },
   "source": []
  },
  {
   "cell_type": "markdown",
   "id": "ec40c4a0",
   "metadata": {
    "direction": "rtl"
   },
   "source": []
  },
  {
   "cell_type": "markdown",
   "id": "55ae48dc",
   "metadata": {
    "direction": "rtl"
   },
   "source": []
  },
  {
   "cell_type": "markdown",
   "id": "255aee90",
   "metadata": {
    "direction": "rtl"
   },
   "source": []
  },
  {
   "cell_type": "markdown",
   "id": "4db52cbc",
   "metadata": {
    "direction": "rtl"
   },
   "source": []
  },
  {
   "cell_type": "markdown",
   "id": "b8822316",
   "metadata": {
    "direction": "rtl"
   },
   "source": []
  },
  {
   "cell_type": "markdown",
   "id": "df114275",
   "metadata": {
    "direction": "rtl"
   },
   "source": []
  },
  {
   "cell_type": "markdown",
   "id": "8f40cb77",
   "metadata": {
    "direction": "rtl"
   },
   "source": []
  },
  {
   "cell_type": "markdown",
   "id": "e20b2db6",
   "metadata": {
    "direction": "rtl"
   },
   "source": []
  },
  {
   "cell_type": "markdown",
   "id": "5e4f33e9",
   "metadata": {
    "direction": "rtl"
   },
   "source": [
    "# بخش 6"
   ]
  },
  {
   "cell_type": "markdown",
   "id": "116b4bd8",
   "metadata": {
    "direction": "rtl"
   },
   "source": []
  },
  {
   "cell_type": "markdown",
   "id": "27c2fb30",
   "metadata": {
    "direction": "rtl"
   },
   "source": []
  },
  {
   "cell_type": "markdown",
   "id": "96f05eef",
   "metadata": {
    "direction": "rtl"
   },
   "source": []
  },
  {
   "cell_type": "markdown",
   "id": "e6f365e1",
   "metadata": {
    "direction": "rtl"
   },
   "source": []
  },
  {
   "cell_type": "markdown",
   "id": "cc88b717",
   "metadata": {
    "direction": "rtl"
   },
   "source": []
  },
  {
   "cell_type": "markdown",
   "id": "8ea37c60",
   "metadata": {
    "direction": "rtl"
   },
   "source": []
  },
  {
   "cell_type": "markdown",
   "id": "daa8bc98",
   "metadata": {
    "direction": "rtl"
   },
   "source": []
  },
  {
   "cell_type": "markdown",
   "id": "4f306819",
   "metadata": {
    "direction": "rtl"
   },
   "source": []
  },
  {
   "cell_type": "markdown",
   "id": "fa840624",
   "metadata": {
    "direction": "rtl"
   },
   "source": []
  },
  {
   "cell_type": "markdown",
   "id": "78221779",
   "metadata": {
    "direction": "rtl"
   },
   "source": []
  },
  {
   "cell_type": "markdown",
   "id": "4277d0bf",
   "metadata": {
    "direction": "rtl"
   },
   "source": []
  },
  {
   "cell_type": "markdown",
   "id": "6da07cc8",
   "metadata": {
    "direction": "rtl"
   },
   "source": []
  },
  {
   "cell_type": "markdown",
   "id": "cb11920e",
   "metadata": {
    "direction": "rtl"
   },
   "source": []
  },
  {
   "cell_type": "markdown",
   "id": "dce812f1",
   "metadata": {
    "direction": "rtl"
   },
   "source": []
  },
  {
   "cell_type": "markdown",
   "id": "d6112824",
   "metadata": {
    "direction": "rtl"
   },
   "source": []
  },
  {
   "cell_type": "markdown",
   "id": "f25ef657",
   "metadata": {
    "direction": "rtl"
   },
   "source": []
  },
  {
   "cell_type": "markdown",
   "id": "33c4c2ec",
   "metadata": {
    "direction": "rtl"
   },
   "source": [
    "# بخش 7"
   ]
  },
  {
   "cell_type": "markdown",
   "id": "2c109fac",
   "metadata": {
    "direction": "rtl"
   },
   "source": []
  },
  {
   "cell_type": "markdown",
   "id": "5a4dba46",
   "metadata": {
    "direction": "rtl"
   },
   "source": []
  },
  {
   "cell_type": "markdown",
   "id": "c05b7da5",
   "metadata": {
    "direction": "rtl"
   },
   "source": []
  },
  {
   "cell_type": "markdown",
   "id": "b9179496",
   "metadata": {
    "direction": "rtl"
   },
   "source": []
  },
  {
   "cell_type": "markdown",
   "id": "0d7ed99e",
   "metadata": {
    "direction": "rtl"
   },
   "source": []
  },
  {
   "cell_type": "markdown",
   "id": "134f3eac",
   "metadata": {
    "direction": "rtl"
   },
   "source": []
  },
  {
   "cell_type": "markdown",
   "id": "71f732a2",
   "metadata": {
    "direction": "rtl"
   },
   "source": []
  },
  {
   "cell_type": "markdown",
   "id": "8475f413",
   "metadata": {
    "direction": "rtl"
   },
   "source": []
  },
  {
   "cell_type": "markdown",
   "id": "23096d55",
   "metadata": {
    "direction": "rtl"
   },
   "source": []
  },
  {
   "cell_type": "markdown",
   "id": "df06f690",
   "metadata": {
    "direction": "rtl"
   },
   "source": []
  },
  {
   "cell_type": "markdown",
   "id": "f25da991",
   "metadata": {
    "direction": "rtl"
   },
   "source": []
  },
  {
   "cell_type": "markdown",
   "id": "7cfef898",
   "metadata": {
    "direction": "rtl"
   },
   "source": []
  },
  {
   "cell_type": "markdown",
   "id": "59a4b9d5",
   "metadata": {
    "direction": "rtl"
   },
   "source": []
  },
  {
   "cell_type": "markdown",
   "id": "677e4749",
   "metadata": {
    "direction": "rtl"
   },
   "source": []
  },
  {
   "cell_type": "markdown",
   "id": "d8be7ef9",
   "metadata": {
    "direction": "rtl"
   },
   "source": []
  },
  {
   "cell_type": "markdown",
   "id": "56a0db1b",
   "metadata": {
    "direction": "rtl"
   },
   "source": [
    "# بخش 8"
   ]
  },
  {
   "cell_type": "markdown",
   "id": "636c8403",
   "metadata": {
    "direction": "rtl"
   },
   "source": []
  },
  {
   "cell_type": "markdown",
   "id": "6e4c3708",
   "metadata": {
    "direction": "rtl"
   },
   "source": []
  },
  {
   "cell_type": "markdown",
   "id": "1a83915b",
   "metadata": {
    "direction": "rtl"
   },
   "source": []
  },
  {
   "cell_type": "markdown",
   "id": "5ff460bf",
   "metadata": {
    "direction": "rtl"
   },
   "source": []
  },
  {
   "cell_type": "markdown",
   "id": "ae57dc36",
   "metadata": {
    "direction": "rtl"
   },
   "source": []
  },
  {
   "cell_type": "markdown",
   "id": "6c8ffbc0",
   "metadata": {
    "direction": "rtl"
   },
   "source": []
  },
  {
   "cell_type": "markdown",
   "id": "6a73cd01",
   "metadata": {
    "direction": "rtl"
   },
   "source": []
  },
  {
   "cell_type": "markdown",
   "id": "ba34a0c4",
   "metadata": {
    "direction": "rtl"
   },
   "source": []
  },
  {
   "cell_type": "markdown",
   "id": "f4d7a30c",
   "metadata": {
    "direction": "rtl"
   },
   "source": []
  },
  {
   "cell_type": "markdown",
   "id": "3fa343d1",
   "metadata": {
    "direction": "rtl"
   },
   "source": []
  },
  {
   "cell_type": "markdown",
   "id": "19d261d3",
   "metadata": {
    "direction": "rtl"
   },
   "source": []
  },
  {
   "cell_type": "markdown",
   "id": "c7798624",
   "metadata": {
    "direction": "rtl"
   },
   "source": []
  },
  {
   "cell_type": "markdown",
   "id": "5dfaecb9",
   "metadata": {
    "direction": "rtl"
   },
   "source": []
  },
  {
   "cell_type": "markdown",
   "id": "2c7a3b51",
   "metadata": {
    "direction": "rtl"
   },
   "source": []
  },
  {
   "cell_type": "markdown",
   "id": "783872de",
   "metadata": {
    "direction": "rtl"
   },
   "source": [
    "# بخش 9"
   ]
  },
  {
   "cell_type": "markdown",
   "id": "2483e7de",
   "metadata": {
    "direction": "rtl"
   },
   "source": []
  },
  {
   "cell_type": "markdown",
   "id": "a483fcd4",
   "metadata": {
    "direction": "rtl"
   },
   "source": []
  },
  {
   "cell_type": "markdown",
   "id": "2b70611a",
   "metadata": {
    "direction": "rtl"
   },
   "source": []
  },
  {
   "cell_type": "markdown",
   "id": "ccc0a7d2",
   "metadata": {
    "direction": "rtl"
   },
   "source": []
  },
  {
   "cell_type": "markdown",
   "id": "f41db5da",
   "metadata": {
    "direction": "rtl"
   },
   "source": []
  },
  {
   "cell_type": "markdown",
   "id": "fea3138e",
   "metadata": {
    "direction": "rtl"
   },
   "source": []
  },
  {
   "cell_type": "markdown",
   "id": "d830db25",
   "metadata": {
    "direction": "rtl"
   },
   "source": []
  },
  {
   "cell_type": "markdown",
   "id": "8ee70633",
   "metadata": {
    "direction": "rtl"
   },
   "source": []
  },
  {
   "cell_type": "markdown",
   "id": "846c6b45",
   "metadata": {
    "direction": "rtl"
   },
   "source": []
  },
  {
   "cell_type": "markdown",
   "id": "94a5591a",
   "metadata": {
    "direction": "rtl"
   },
   "source": []
  },
  {
   "cell_type": "markdown",
   "id": "b291c9bb",
   "metadata": {
    "direction": "rtl"
   },
   "source": []
  },
  {
   "cell_type": "markdown",
   "id": "e90e471a",
   "metadata": {
    "direction": "rtl"
   },
   "source": []
  },
  {
   "cell_type": "markdown",
   "id": "9500e327",
   "metadata": {
    "direction": "rtl"
   },
   "source": []
  },
  {
   "cell_type": "markdown",
   "id": "610635d1",
   "metadata": {
    "direction": "rtl"
   },
   "source": []
  },
  {
   "cell_type": "markdown",
   "id": "37ebf0aa",
   "metadata": {
    "direction": "rtl"
   },
   "source": []
  },
  {
   "cell_type": "markdown",
   "id": "61375bee",
   "metadata": {
    "direction": "rtl"
   },
   "source": [
    "# بخش 10"
   ]
  },
  {
   "cell_type": "markdown",
   "id": "58d46a34",
   "metadata": {
    "direction": "rtl"
   },
   "source": []
  },
  {
   "cell_type": "markdown",
   "id": "4dcc150a",
   "metadata": {
    "direction": "rtl"
   },
   "source": []
  },
  {
   "cell_type": "markdown",
   "id": "905dac48",
   "metadata": {
    "direction": "rtl"
   },
   "source": []
  },
  {
   "cell_type": "markdown",
   "id": "30ac27e5",
   "metadata": {
    "direction": "rtl"
   },
   "source": []
  },
  {
   "cell_type": "markdown",
   "id": "e65333a4",
   "metadata": {
    "direction": "rtl"
   },
   "source": []
  },
  {
   "cell_type": "markdown",
   "id": "53bfd237",
   "metadata": {
    "direction": "rtl"
   },
   "source": []
  },
  {
   "cell_type": "markdown",
   "id": "33b52a6c",
   "metadata": {
    "direction": "rtl"
   },
   "source": []
  },
  {
   "cell_type": "markdown",
   "id": "22cbe763",
   "metadata": {
    "direction": "rtl"
   },
   "source": []
  },
  {
   "cell_type": "markdown",
   "id": "8423b0b0",
   "metadata": {
    "direction": "rtl"
   },
   "source": []
  },
  {
   "cell_type": "markdown",
   "id": "92a3ec4a",
   "metadata": {
    "direction": "rtl"
   },
   "source": []
  },
  {
   "cell_type": "markdown",
   "id": "6b982ed2",
   "metadata": {
    "direction": "rtl"
   },
   "source": []
  },
  {
   "cell_type": "markdown",
   "id": "1a08709d",
   "metadata": {
    "direction": "rtl"
   },
   "source": []
  },
  {
   "cell_type": "markdown",
   "id": "d687257d",
   "metadata": {
    "direction": "rtl"
   },
   "source": []
  },
  {
   "cell_type": "markdown",
   "id": "bb6627f8",
   "metadata": {
    "direction": "rtl"
   },
   "source": []
  },
  {
   "cell_type": "markdown",
   "id": "d0ccf8d1",
   "metadata": {
    "direction": "rtl"
   },
   "source": []
  },
  {
   "cell_type": "markdown",
   "id": "3d6c791c",
   "metadata": {
    "direction": "rtl"
   },
   "source": []
  },
  {
   "cell_type": "markdown",
   "id": "03f099db",
   "metadata": {
    "direction": "rtl"
   },
   "source": []
  }
 ],
 "metadata": {
  "kernelspec": {
   "display_name": "Python 3 (ipykernel)",
   "language": "python",
   "name": "python3"
  },
  "language_info": {
   "codemirror_mode": {
    "name": "ipython",
    "version": 3
   },
   "file_extension": ".py",
   "mimetype": "text/x-python",
   "name": "python",
   "nbconvert_exporter": "python",
   "pygments_lexer": "ipython3",
   "version": "3.9.7"
  }
 },
 "nbformat": 4,
 "nbformat_minor": 5
}
